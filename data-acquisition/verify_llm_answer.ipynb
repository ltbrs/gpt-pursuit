{
 "cells": [
  {
   "cell_type": "code",
   "execution_count": 3,
   "metadata": {},
   "outputs": [],
   "source": [
    "import json\n",
    "from typing import TypedDict\n",
    "\n",
    "\n",
    "class LLMAnswer(TypedDict):\n",
    "    answer: str\n",
    "    is_correct: bool\n",
    "\n",
    "class Question(TypedDict):\n",
    "    id: str\n",
    "    question: str\n",
    "    expected_answer: str\n",
    "    category: str\n",
    "    difficulty: str\n",
    "    llm_answers: dict[str, LLMAnswer]\n",
    "\n",
    "\n",
    "questions:dict[str, list[Question]] = json.load(open(\"../frontend/data/sample_trivia.json\"))"
   ]
  },
  {
   "cell_type": "markdown",
   "metadata": {},
   "source": [
    "### Test Xenova/distilbert-base-uncased-finetuned-sst2"
   ]
  },
  {
   "cell_type": "code",
   "execution_count": 7,
   "metadata": {},
   "outputs": [
    {
     "name": "stderr",
     "output_type": "stream",
     "text": [
      "Device set to use cpu\n"
     ]
    },
    {
     "name": "stdout",
     "output_type": "stream",
     "text": [
      "{'label': 'NEGATIVE', 'score': 0.9918941855430603}\n"
     ]
    }
   ],
   "source": [
    "# Import required libraries\n",
    "import torch\n",
    "from transformers import pipeline, AutoTokenizer, AutoModelForSequenceClassification\n",
    "\n",
    "\n",
    "classifier = pipeline(\"text-classification\", model=\"distilbert/distilbert-base-uncased-finetuned-sst-2-english\")\n",
    "\n",
    "# Function to format input and classify\n",
    "def check_answer(question:str, expected_answer:str, user_answer:str):\n",
    "    input_text = f\"Question: {question} Expected answer: {expected_answer}. User answer: {user_answer}\"\n",
    "    result = classifier(input_text)\n",
    "    return result[0]\n",
    "\n",
    "# Test with your example\n",
    "test_case = {\n",
    "    \"question\": \"Who has built the Chateau de Versailles?\",\n",
    "    \"expected_answer\": \"Louis XIV\",\n",
    "    \"user_answer\": \"Louis XVI\"\n",
    "}\n",
    "\n",
    "result = check_answer(\n",
    "    test_case[\"question\"],\n",
    "    test_case[\"expected_answer\"],\n",
    "    test_case[\"user_answer\"]\n",
    ")\n",
    "print(result)"
   ]
  },
  {
   "cell_type": "markdown",
   "metadata": {},
   "source": [
    "### Finetune model"
   ]
  },
  {
   "cell_type": "code",
   "execution_count": null,
   "metadata": {},
   "outputs": [],
   "source": []
  }
 ],
 "metadata": {
  "kernelspec": {
   "display_name": "gpt_pursuit",
   "language": "python",
   "name": "python3"
  },
  "language_info": {
   "codemirror_mode": {
    "name": "ipython",
    "version": 3
   },
   "file_extension": ".py",
   "mimetype": "text/x-python",
   "name": "python",
   "nbconvert_exporter": "python",
   "pygments_lexer": "ipython3",
   "version": "3.11.8"
  }
 },
 "nbformat": 4,
 "nbformat_minor": 2
}
