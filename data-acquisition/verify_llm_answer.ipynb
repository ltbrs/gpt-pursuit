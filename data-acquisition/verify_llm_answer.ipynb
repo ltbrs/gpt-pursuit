{
 "cells": [
  {
   "cell_type": "code",
   "execution_count": 1,
   "metadata": {},
   "outputs": [],
   "source": [
    "import json\n",
    "from typing import TypedDict\n",
    "\n",
    "\n",
    "class LLMAnswer(TypedDict):\n",
    "    answer: str\n",
    "    is_correct: bool\n",
    "\n",
    "class Question(TypedDict):\n",
    "    id: str\n",
    "    question: str\n",
    "    expected_answer: str\n",
    "    category: str\n",
    "    difficulty: str\n",
    "    llm_answers: dict[str, LLMAnswer]\n",
    "\n",
    "\n",
    "questions:list[Question] = json.load(open(\"../frontend/data/sample_trivia.json\"))['questions']"
   ]
  },
  {
   "cell_type": "code",
   "execution_count": 4,
   "metadata": {},
   "outputs": [],
   "source": [
    "\n",
    "# Test with your example\n",
    "test_case = {\n",
    "    \"question\": \"Who has built the Chateau de Versailles?\",\n",
    "    \"expected_answer\": \"Louis XIV\",\n",
    "    \"user_answer\": \"Louis XVI\"\n",
    "}\n"
   ]
  },
  {
   "cell_type": "markdown",
   "metadata": {},
   "source": [
    "### Test Xenova/distilbert-base-uncased-finetuned-sst2"
   ]
  },
  {
   "cell_type": "code",
   "execution_count": null,
   "metadata": {},
   "outputs": [
    {
     "name": "stderr",
     "output_type": "stream",
     "text": [
      "/home/lambert-bruyas/miniconda3/envs/gpt_pursuit/lib/python3.11/site-packages/tqdm/auto.py:21: TqdmWarning: IProgress not found. Please update jupyter and ipywidgets. See https://ipywidgets.readthedocs.io/en/stable/user_install.html\n",
      "  from .autonotebook import tqdm as notebook_tqdm\n",
      "Device set to use cpu\n"
     ]
    }
   ],
   "source": [
    "# Import required libraries\n",
    "import torch\n",
    "from transformers import pipeline, AutoTokenizer, AutoModelForSequenceClassification\n",
    "\n",
    "\n",
    "classifier = pipeline(\"text-classification\", model=\"distilbert/distilbert-base-uncased-finetuned-sst-2-english\")\n",
    "\n",
    "# Function to format input and classify\n",
    "def check_answer(question:str, expected_answer:str, user_answer:str):\n",
    "    input_text = f\"Question: {question} Expected answer: {expected_answer}. User answer: {user_answer}. Is the user answer correct? \"\n",
    "    result = classifier(input_text)\n",
    "    return result[0]\n",
    "\n",
    "\n",
    "\n",
    "result = check_answer(\n",
    "    test_case[\"question\"],\n",
    "    test_case[\"expected_answer\"],\n",
    "    test_case[\"user_answer\"]\n",
    ")\n",
    "print(result)"
   ]
  },
  {
   "cell_type": "markdown",
   "metadata": {},
   "source": [
    "### Test all-MiniLM-L6-v2"
   ]
  },
  {
   "cell_type": "code",
   "execution_count": 11,
   "metadata": {},
   "outputs": [
    {
     "data": {
      "text/plain": [
       "True"
      ]
     },
     "execution_count": 11,
     "metadata": {},
     "output_type": "execute_result"
    }
   ],
   "source": [
    "from sentence_transformers import SentenceTransformer, util\n",
    "\n",
    "# Load a sentence embedding model\n",
    "model = SentenceTransformer('all-MiniLM-L6-v2')\n",
    "\n",
    "# Define expected and user answers\n",
    "\n",
    "def check_answer(question:str, expected_answer:str, user_answer:str)->bool:\n",
    "    # Encode them as vectors\n",
    "    expected_vec = model.encode(expected_answer, convert_to_tensor=True)\n",
    "    user_vec = model.encode(user_answer, convert_to_tensor=True)\n",
    "\n",
    "    # Compute cosine similarity\n",
    "    similarity = util.pytorch_cos_sim(expected_vec, user_vec).item()\n",
    "\n",
    "    # Decide threshold (tweak this as needed)\n",
    "    threshold = 0.8\n",
    "    classification = \"correct\" if similarity > threshold else \"incorrect\"\n",
    "\n",
    "    return similarity > threshold\n",
    "\n",
    "check_answer(test_case[\"question\"], test_case[\"expected_answer\"], \"Louis XIV\")"
   ]
  },
  {
   "cell_type": "code",
   "execution_count": 12,
   "metadata": {},
   "outputs": [
    {
     "name": "stdout",
     "output_type": "stream",
     "text": [
      "Who was the first President of the United States? - Answer: George Washington \n",
      " George Washington, who served as the first President from 1789 to 1797 - True - False\n",
      "Who was the first President of the United States? - Answer: George Washington \n",
      " George Washington was the first President of the United States - True - False\n",
      "What is the chemical symbol for gold? - Answer: Au \n",
      " Au - True - True\n",
      "What is the chemical symbol for gold? - Answer: Au \n",
      " The chemical symbol for gold is Au, derived from the Latin word 'aurum' - True - False\n",
      "Which is the largest ocean on Earth? - Answer: Pacific Ocean \n",
      " The Pacific Ocean - True - True\n",
      "Which is the largest ocean on Earth? - Answer: Pacific Ocean \n",
      " The Atlantic Ocean is the largest ocean on Earth - False - False\n",
      "Which actor played Tony Stark in the Marvel Cinematic Universe? - Answer: Robert Downey Jr. \n",
      " Robert Downey Jr. - True - True\n",
      "Which actor played Tony Stark in the Marvel Cinematic Universe? - Answer: Robert Downey Jr. \n",
      " Robert Downey Jr. portrayed Tony Stark/Iron Man in the MCU - True - False\n",
      "In which year were the first modern Olympic Games held? - Answer: 1896 \n",
      " 1896 in Athens, Greece - True - False\n",
      "In which year were the first modern Olympic Games held? - Answer: 1896 \n",
      " The first modern Olympic Games were held in 1896 - True - False\n"
     ]
    }
   ],
   "source": [
    "for question in questions:\n",
    "    for model_name, llm_answer in question[\"llm_answers\"].items():\n",
    "        correct = check_answer(question[\"question\"], question[\"expected_answer\"], llm_answer[\"answer\"])\n",
    "        print(question['question'], \"- Answer:\", question['expected_answer'], \"\\n\", llm_answer[\"answer\"], \"-\",  llm_answer[\"is_correct\"],\"-\", correct)"
   ]
  },
  {
   "cell_type": "code",
   "execution_count": 18,
   "metadata": {},
   "outputs": [
    {
     "data": {
      "text/plain": [
       "{'id': 1,\n",
       " 'category': 'History',\n",
       " 'question': 'Who was the first President of the United States?',\n",
       " 'expected_answer': 'George Washington',\n",
       " 'llm_answers': {'gpt3.5': {'answer': 'George Washington, who served as the first President from 1789 to 1797',\n",
       "   'is_correct': True},\n",
       "  'claude': {'answer': 'George Washington was the first President of the United States',\n",
       "   'is_correct': True}},\n",
       " 'difficulty': 'easy'}"
      ]
     },
     "execution_count": 18,
     "metadata": {},
     "output_type": "execute_result"
    }
   ],
   "source": [
    "question"
   ]
  }
 ],
 "metadata": {
  "kernelspec": {
   "display_name": "gpt_pursuit",
   "language": "python",
   "name": "python3"
  },
  "language_info": {
   "codemirror_mode": {
    "name": "ipython",
    "version": 3
   },
   "file_extension": ".py",
   "mimetype": "text/x-python",
   "name": "python",
   "nbconvert_exporter": "python",
   "pygments_lexer": "ipython3",
   "version": "3.11.8"
  }
 },
 "nbformat": 4,
 "nbformat_minor": 2
}
