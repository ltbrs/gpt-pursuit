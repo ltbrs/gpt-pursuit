{
 "cells": [
  {
   "cell_type": "code",
   "execution_count": 2,
   "metadata": {},
   "outputs": [],
   "source": [
    "import pandas as pd\n",
    "\n"
   ]
  },
  {
   "cell_type": "markdown",
   "metadata": {},
   "source": [
    "# 1. Data loading"
   ]
  },
  {
   "cell_type": "code",
   "execution_count": 33,
   "metadata": {},
   "outputs": [],
   "source": [
    "SHEET_NAMES = [\n",
    "    \"Millionaire - Easy Q\", \n",
    "    # \"Millionaire - Hard Q\"\n",
    "    ]"
   ]
  },
  {
   "cell_type": "code",
   "execution_count": 6,
   "metadata": {},
   "outputs": [],
   "source": [
    "datasets = {}\n",
    "for sheet_name in SHEET_NAMES:\n",
    "    datasets[sheet_name] = pd.read_excel(\"data/Trivia-Printable.xlsx\", sheet_name=sheet_name)\n"
   ]
  },
  {
   "cell_type": "code",
   "execution_count": 34,
   "metadata": {},
   "outputs": [],
   "source": [
    "concatenated_df = pd.DataFrame()\n",
    "for sheet_name in SHEET_NAMES:\n",
    "    for suffix in [\"\", \".1\", \".2\"]:\n",
    "        new_df = datasets[sheet_name][[\"Question\" + suffix, \"Answer\" + suffix]]\n",
    "        new_df.columns = [\"Question\", \"Answer\"]\n",
    "        new_df = new_df.copy()\n",
    "        new_df.loc[:, 'Difficulty'] = sheet_name\n",
    "        concatenated_df = pd.concat([concatenated_df, new_df], axis=0, ignore_index=True)"
   ]
  },
  {
   "cell_type": "code",
   "execution_count": 36,
   "metadata": {},
   "outputs": [],
   "source": [
    "concatenated_df.to_csv(\"data/Trivia-Printable_merged.csv\", index=False)"
   ]
  },
  {
   "cell_type": "markdown",
   "metadata": {},
   "source": [
    "# 2. Answer a question"
   ]
  },
  {
   "cell_type": "code",
   "execution_count": null,
   "metadata": {},
   "outputs": [],
   "source": [
    "# a"
   ]
  }
 ],
 "metadata": {
  "kernelspec": {
   "display_name": "prism_prd",
   "language": "python",
   "name": "python3"
  },
  "language_info": {
   "codemirror_mode": {
    "name": "ipython",
    "version": 3
   },
   "file_extension": ".py",
   "mimetype": "text/x-python",
   "name": "python",
   "nbconvert_exporter": "python",
   "pygments_lexer": "ipython3",
   "version": "3.11.4"
  }
 },
 "nbformat": 4,
 "nbformat_minor": 2
}
