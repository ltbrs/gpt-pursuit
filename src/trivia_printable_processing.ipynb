{
 "cells": [
  {
   "cell_type": "code",
   "execution_count": 2,
   "metadata": {},
   "outputs": [],
   "source": [
    "import pandas as pd\n",
    "\n"
   ]
  },
  {
   "cell_type": "markdown",
   "metadata": {},
   "source": [
    "# 1. Data loading"
   ]
  },
  {
   "cell_type": "code",
   "execution_count": 3,
   "metadata": {},
   "outputs": [],
   "source": [
    "SHEET_NAMES = [\n",
    "    \"Millionaire - Easy Q\", \n",
    "    # \"Millionaire - Hard Q\"\n",
    "    ]"
   ]
  },
  {
   "cell_type": "code",
   "execution_count": 4,
   "metadata": {},
   "outputs": [],
   "source": [
    "datasets = {}\n",
    "for sheet_name in SHEET_NAMES:\n",
    "    datasets[sheet_name] = pd.read_excel(\"data/Trivia-Printable.xlsx\", sheet_name=sheet_name)\n"
   ]
  },
  {
   "cell_type": "code",
   "execution_count": 5,
   "metadata": {},
   "outputs": [],
   "source": [
    "concatenated_df = pd.DataFrame()\n",
    "for sheet_name in SHEET_NAMES:\n",
    "    for suffix in [\"\", \".1\", \".2\"]:\n",
    "        new_df = datasets[sheet_name][[\"Question\" + suffix, \"Answer\" + suffix]]\n",
    "        new_df.columns = [\"Question\", \"Answer\"]\n",
    "        new_df = new_df.copy()\n",
    "        new_df.loc[:, 'Difficulty'] = sheet_name\n",
    "        concatenated_df = pd.concat([concatenated_df, new_df], axis=0, ignore_index=True)"
   ]
  },
  {
   "cell_type": "code",
   "execution_count": 6,
   "metadata": {},
   "outputs": [],
   "source": [
    "concatenated_df.to_csv(\"data/Trivia-Printable_merged.csv\", index=False)"
   ]
  },
  {
   "cell_type": "markdown",
   "metadata": {},
   "source": [
    "# 2. LLM challenger Answer a question"
   ]
  },
  {
   "cell_type": "code",
   "execution_count": null,
   "metadata": {},
   "outputs": [],
   "source": []
  },
  {
   "cell_type": "code",
   "execution_count": 2,
   "metadata": {},
   "outputs": [],
   "source": []
  },
  {
   "cell_type": "code",
   "execution_count": null,
   "metadata": {},
   "outputs": [
    {
     "name": "stderr",
     "output_type": "stream",
     "text": [
      "Device set to use cpu\n",
      "Setting `pad_token_id` to `eos_token_id`:50256 for open-end generation.\n"
     ]
    }
   ],
   "source": [
    "import torch\n",
    "from transformers import pipeline\n",
    "\n",
    "\n",
    "question = \"What is the capital of Sri Lanka?\"\n",
    "\n",
    "\n",
    "\n",
    "\n",
    "MODEL_KWARGS = [\n",
    "    {\"model\":\"kyutai/helium-1-preview-2b\", \n",
    "    #  \"torch_dtype\":torch.float16, \n",
    "    #  \"device_map\":\"auto\"\n",
    "     },\n",
    "    {\"model\":\"mistralai/Mistral-7B-Instruct-v0.3\"},\n",
    "    {\"model\":\"meta-llama/Llama-3.2-1B\", \"torch_dtype\":torch.float16, \"device_map\":\"auto\"}, \n",
    "    {\"model\":\"gpt2\"},\n",
    "    {\"model\":\"gpt2-large\"},\n",
    "    {\"model\":\"MaziyarPanahi/gemma-2-2b-it-GGUF\"}\n",
    "    \n",
    "    \n",
    "]\n",
    "\n",
    "PROMPT = \"\"\"You are participating in a trivia contest. Answer the following question: {question}\"\"\".format(question=question)\n",
    "\n",
    "\n",
    "\n",
    "pipe = pipeline(\n",
    "    \"text-generation\", \n",
    "    **MODEL_KWARGS[-1]\n",
    ")\n",
    "\n",
    "text = pipe(PROMPT.format(question=question))\n"
   ]
  },
  {
   "cell_type": "code",
   "execution_count": 15,
   "metadata": {},
   "outputs": [
    {
     "data": {
      "text/plain": [
       "[{'generated_text': 'You are participating in a trivia contest. Answer the following question: What is the capital of Sri Lanka? Your guess will be listed below the game board where the answers are listed to provide you with a better chance to win. All answers will be taken'}]"
      ]
     },
     "execution_count": 15,
     "metadata": {},
     "output_type": "execute_result"
    }
   ],
   "source": [
    "text"
   ]
  },
  {
   "cell_type": "code",
   "execution_count": null,
   "metadata": {},
   "outputs": [],
   "source": []
  }
 ],
 "metadata": {
  "kernelspec": {
   "display_name": "gpt_pursuit",
   "language": "python",
   "name": "python3"
  },
  "language_info": {
   "codemirror_mode": {
    "name": "ipython",
    "version": 3
   },
   "file_extension": ".py",
   "mimetype": "text/x-python",
   "name": "python",
   "nbconvert_exporter": "python",
   "pygments_lexer": "ipython3",
   "version": "3.11.8"
  }
 },
 "nbformat": 4,
 "nbformat_minor": 2
}
